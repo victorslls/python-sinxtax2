{
 "cells": [
  {
   "cell_type": "code",
   "execution_count": 5,
   "metadata": {},
   "outputs": [],
   "source": [
    "name = input(\"digite seu nome\")\n",
    "\n"
   ]
  },
  {
   "cell_type": "code",
   "execution_count": null,
   "metadata": {},
   "outputs": [],
   "source": []
  },
  {
   "cell_type": "code",
   "execution_count": 6,
   "metadata": {},
   "outputs": [
    {
     "name": "stdout",
     "output_type": "stream",
     "text": [
      "marcos victor\n"
     ]
    }
   ],
   "source": [
    "print(name)"
   ]
  },
  {
   "cell_type": "code",
   "execution_count": 19,
   "metadata": {},
   "outputs": [],
   "source": [
    "idade = int (input (\"digite sua idade\"))"
   ]
  },
  {
   "cell_type": "code",
   "execution_count": 36,
   "metadata": {},
   "outputs": [],
   "source": [
    "# força a tipação, por padrão o input devolve string como resposta de tipo, mas essa semantica força a tipação dentro do linguagen do python\n",
    "\n",
    "valor1 =  (input(\"Digite um número inteiro:\"))\n",
    "valor2 =  (input('Digite outro número inteiro:'))\n"
   ]
  },
  {
   "cell_type": "code",
   "execution_count": 37,
   "metadata": {},
   "outputs": [
    {
     "name": "stdout",
     "output_type": "stream",
     "text": [
      "True\n",
      "False\n",
      "False\n",
      "True\n",
      "True\n"
     ]
    }
   ],
   "source": [
    "print(valor1 == valor2)\n",
    "print(valor1 > valor2)\n",
    "print(valor1 < valor2)\n",
    "print(valor1 >= valor2)\n",
    "print(valor1 <= valor2)"
   ]
  },
  {
   "cell_type": "code",
   "execution_count": 14,
   "metadata": {},
   "outputs": [
    {
     "name": "stdout",
     "output_type": "stream",
     "text": [
      "O nome do meliante é marcos victor e a idade é  26\n"
     ]
    }
   ],
   "source": [
    "print(\"O nome do meliante é\", name, \"e a idade é \", idade)"
   ]
  },
  {
   "cell_type": "code",
   "execution_count": 41,
   "metadata": {},
   "outputs": [],
   "source": [
    "senha = \"354684fgdxsgvijugyd\"\n",
    "\n",
    "_senha = input('Digite a senha')\n",
    "\n"
   ]
  },
  {
   "cell_type": "code",
   "execution_count": 43,
   "metadata": {},
   "outputs": [
    {
     "name": "stdout",
     "output_type": "stream",
     "text": [
      "False\n"
     ]
    }
   ],
   "source": [
    "print(senha == _senha)"
   ]
  },
  {
   "cell_type": "code",
   "execution_count": 50,
   "metadata": {},
   "outputs": [
    {
     "name": "stdout",
     "output_type": "stream",
     "text": [
      "\u001b[1;32mAcesso Permitido\u001b[m\n",
      "logar\n"
     ]
    }
   ],
   "source": [
    "# and e or\n",
    "# \\033[1;31mAcesso Negado\\033[m\" na condicional esses dados resulta nas cores verde  e vermelho, mas o \"e\" é usado para quebrar a execu not\n",
    "login = input(\"digite seu nome\") \n",
    "\n",
    "senha = input(f\"Senha de {login}: \")\n",
    "\n",
    "if (login == \"marcos\" and senha == \"123456\"):\n",
    "    print(\"\\033[1;32mAcesso Permitido\\033[m\")\n",
    "else:\n",
    "    print(\"\\033[1;31mAcesso Negado\\033[m\")\n",
    "\n",
    "\n",
    "print (\"logar\" if login == \"marcos\" and senha == '123456' else \"não tem o acesso\")"
   ]
  },
  {
   "cell_type": "code",
   "execution_count": 74,
   "metadata": {},
   "outputs": [
    {
     "name": "stdout",
     "output_type": "stream",
     "text": [
      "Número par\n",
      "par\n"
     ]
    }
   ],
   "source": [
    "number = int (input(\"Digite um número intneiro:\"))\n",
    "\n",
    "if(number % 2 == 0 ):\n",
    "    print('Número par')\n",
    "else:\n",
    "    print('Numero impar')\n",
    "\n",
    "\n",
    "print(\"par\" if number % 2 == 0 else \"impar\" )"
   ]
  },
  {
   "cell_type": "code",
   "execution_count": 78,
   "metadata": {},
   "outputs": [
    {
     "name": "stdout",
     "output_type": "stream",
     "text": [
      "congratulation, você ganhou 5% de desconto \n",
      "congratulation win\n"
     ]
    }
   ],
   "source": [
    "# usando condicional ternária no python\n",
    "\n",
    "cupom = input(\"Digite o cupom\")\n",
    "\n",
    "if (cupom == \"aula1\" or cupom == 'aula2' ):\n",
    "    print('congratulation, você ganhou 5% de desconto ')\n",
    "else: \n",
    "    print('não foi dessa vez')\n",
    "    \n",
    "print (\"congratulation win\" if cupom == \"aula1\" or cupom ==\"aula2\" else \"não foi dessa vez, tenta novamente mais tarde\")"
   ]
  }
 ],
 "metadata": {
  "kernelspec": {
   "display_name": "Python 3",
   "language": "python",
   "name": "python3"
  },
  "language_info": {
   "codemirror_mode": {
    "name": "ipython",
    "version": 3
   },
   "file_extension": ".py",
   "mimetype": "text/x-python",
   "name": "python",
   "nbconvert_exporter": "python",
   "pygments_lexer": "ipython3",
   "version": "3.12.2"
  }
 },
 "nbformat": 4,
 "nbformat_minor": 2
}
